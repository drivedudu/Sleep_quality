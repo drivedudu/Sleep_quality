{
 "cells": [
  {
   "cell_type": "code",
   "execution_count": 1,
   "metadata": {},
   "outputs": [],
   "source": [
    "import pandas as pd\n",
    "from sqlalchemy import create_engine\n",
    "# Create engine\n",
    "import getpass  # To get the password without showing the input\n"
   ]
  },
  {
   "cell_type": "code",
   "execution_count": 2,
   "metadata": {},
   "outputs": [],
   "source": [
    "def create_cnt():\n",
    "    password = getpass.getpass()\n",
    "    bd = \"maternal_mental_health\"\n",
    "    connection_string = 'mysql+pymysql://root:' + password + '@localhost/'+bd\n",
    "    engine = create_engine(connection_string)\n",
    "    return engine"
   ]
  },
  {
   "cell_type": "code",
   "execution_count": 3,
   "metadata": {},
   "outputs": [],
   "source": [
    "engine = create_cnt()\n",
    "table_name = 'maternal_data'  # Nome da tabela que você deseja carregar\n",
    "df = pd.read_sql_table(table_name, engine)"
   ]
  },
  {
   "cell_type": "code",
   "execution_count": 6,
   "metadata": {},
   "outputs": [],
   "source": [
    "df.columns = df.columns.str.lower()\n"
   ]
  },
  {
   "cell_type": "code",
   "execution_count": 67,
   "metadata": {},
   "outputs": [],
   "source": [
    "columns_to_keep = [\n",
    "    'how_falling_asleep_bb1',\n",
    "    'hads_1', 'hads_3', 'hads_5', 'hads_7', 'hads_9', 'hads_11', 'hads_13',\n",
    "    'night_awakening_number_bb1',\n",
    "    'cbts_m_3', 'cbts_m_4', 'cbts_m_5', 'cbts_m_6', 'cbts_m_7', 'cbts_m_8', 'cbts_m_9', 'cbts_m_10', 'cbts_m_11', 'cbts_m_12',\n",
    "    'cbts_13', 'cbts_14', 'cbts_15', 'cbts_16', 'cbts_17', 'cbts_18', 'cbts_19', 'cbts_20', 'cbts_21', 'cbts_22',\n",
    "    'sleep_night_duration_bb1',\n",
    "    'type_parents',\n",
    "    'epds_1', 'epds_2', 'epds_3', 'epds_4', 'epds_5', 'epds_6', 'epds_7', 'epds_8', 'epds_9', 'epds_10',\n",
    "    'child_survey_participation'\n",
    "]\n",
    "\n",
    "df_ead = df.loc[:, columns_to_keep].copy()\n",
    "\n"
   ]
  },
  {
   "cell_type": "code",
   "execution_count": null,
   "metadata": {},
   "outputs": [],
   "source": [
    "df_ead.isna().sum()"
   ]
  },
  {
   "cell_type": "code",
   "execution_count": 68,
   "metadata": {},
   "outputs": [],
   "source": [
    "# PTSD (Post-Traumatic Stress Disorder) and PPD (Postpartum Depression) are mental health conditions:\n",
    "# - PTSD: Post-Traumatic Stress Disorder, a condition that can occur after experiencing traumatic events.\n",
    "# - PPD: Postpartum Depression, a form of depression that can affect mothers after the birth of a baby.\n",
    "\n",
    "# PTSD (Trastorno de Estrés Postraumático) y PPD (Depresión Postparto) son condiciones de salud mental:\n",
    "# - PTSD: Trastorno de Estrés Postraumático, una condición que puede ocurrir después de experimentar eventos traumáticos.\n",
    "# - PPD: Depresión Postparto, una forma de depresión que puede afectar a las madres después del nacimiento de un bebé.\n",
    "\n",
    "\n",
    "column_rename_map = {\n",
    "    'how_falling_asleep_bb1': 'Sleep_Method',\n",
    "    'hads_1': 'Anxiety_Tension',\n",
    "    'hads_3': 'Anxiety_Fear',\n",
    "    'hads_5': 'Anxiety_Worry',\n",
    "    'hads_7': 'Anxiety_Relaxation',\n",
    "    'hads_9': 'Anxiety_Panic',\n",
    "    'hads_11': 'Anxiety_Restlessness',\n",
    "    'hads_13': 'Anxiety_Panic_Feelings',\n",
    "    'night_awakening_number_bb1': 'Night_Wakings',\n",
    "    'cbts_m_3': 'PTSD_Intrusions',\n",
    "    'cbts_m_4': 'PTSD_Nightmares',\n",
    "    'cbts_m_5': 'PTSD_Flashbacks',\n",
    "    'cbts_m_6': 'PTSD_Disturbance',\n",
    "    'cbts_m_7': 'PTSD_Anxiety',\n",
    "    'cbts_m_8': 'PTSD_Avoidance_Thoughts',\n",
    "    'cbts_m_9': 'PTSD_Avoidance_Reminders',\n",
    "    'cbts_m_10': 'PTSD_Memory_Loss',\n",
    "    'cbts_m_11': 'PTSD_Guilt',\n",
    "    'cbts_m_12': 'PTSD_Negative_Emotions',\n",
    "    'cbts_13': 'PTSD_Negative_Beliefs',\n",
    "    'cbts_14': 'PTSD_Loss_Interest',\n",
    "    'cbts_15': 'PTSD_Detachment',\n",
    "    'cbts_16': 'PTSD_No_Positive_Emotions',\n",
    "    'cbts_17': 'PTSD_Irritability',\n",
    "    'cbts_18': 'PTSD_Self_Destruction',\n",
    "    'cbts_19': 'PTSD_Tension',\n",
    "    'cbts_20': 'PTSD_Easily_Started',\n",
    "    'cbts_21': 'PTSD_Concentration',\n",
    "    'cbts_22': 'PTSD_Sleep_Problems',\n",
    "    'sleep_night_duration_bb1': 'Sleep_Duration',\n",
    "    'type_parents': 'Parent_Type',\n",
    "    'epds_1': 'PPD_Laugh',\n",
    "    'epds_2': 'PPD_Confident',\n",
    "    'epds_3': 'PPD_Guilt',\n",
    "    'epds_4': 'PPD_Anxiety',\n",
    "    'epds_5': 'PPD_Fear',\n",
    "    'epds_6': 'PPD_Overwhelmed',\n",
    "    'epds_7': 'PPD_Sleep',\n",
    "    'epds_8': 'PPD_Sadness',\n",
    "    'epds_9': 'PPD_Crying',\n",
    "    'epds_10': 'PPD_Self_Harm',\n",
    "    'child_survey_participation': 'Baby_Survey'\n",
    "}\n",
    "\n",
    "df_ead = df_ead.rename(columns=column_rename_map)\n"
   ]
  },
  {
   "cell_type": "code",
   "execution_count": 69,
   "metadata": {},
   "outputs": [],
   "source": [
    "def time_to_float(time_str):\n",
    "    hours, minutes = map(int, time_str.split(':'))\n",
    "    hours = hours * 60\n",
    "    return hours + minutes\n",
    "\n",
    "df_ead['Sleep_Duration'] = df_ead['Sleep_Duration'].apply(time_to_float)\n",
    "\n",
    "\n",
    "df_ead['Sleep_Duration'] = df_ead['Sleep_Duration'].astype(int)\n"
   ]
  },
  {
   "cell_type": "code",
   "execution_count": 72,
   "metadata": {},
   "outputs": [
    {
     "data": {
      "text/plain": [
       "0      600\n",
       "1      660\n",
       "2      720\n",
       "3      660\n",
       "4      630\n",
       "      ... \n",
       "405    540\n",
       "406    720\n",
       "407    600\n",
       "408    690\n",
       "409    720\n",
       "Name: Sleep_Duration, Length: 410, dtype: int32"
      ]
     },
     "execution_count": 72,
     "metadata": {},
     "output_type": "execute_result"
    }
   ],
   "source": [
    "df_ead['Sleep_Duration']"
   ]
  },
  {
   "cell_type": "code",
   "execution_count": 73,
   "metadata": {},
   "outputs": [],
   "source": [
    "df_ead.to_csv('sleepdata.csv', index=True, index_label=\"participant_number\")"
   ]
  }
 ],
 "metadata": {
  "kernelspec": {
   "display_name": "Python 3 (ipykernel)",
   "language": "python",
   "name": "python3"
  },
  "language_info": {
   "codemirror_mode": {
    "name": "ipython",
    "version": 3
   },
   "file_extension": ".py",
   "mimetype": "text/x-python",
   "name": "python",
   "nbconvert_exporter": "python",
   "pygments_lexer": "ipython3",
   "version": "3.11.7"
  }
 },
 "nbformat": 4,
 "nbformat_minor": 4
}
